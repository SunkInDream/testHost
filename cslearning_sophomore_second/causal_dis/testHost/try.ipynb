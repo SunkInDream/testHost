{
 "cells": [
  {
   "cell_type": "code",
   "execution_count": 1,
   "id": "182b4fdb",
   "metadata": {},
   "outputs": [],
   "source": [
    "from models_impute import *\n",
    "from models_downstream import *\n",
    "from baseline import *\n",
    "import multiprocessing as mp\n",
    "mp.set_start_method('spawn', force=True)"
   ]
  },
  {
   "cell_type": "code",
   "execution_count": null,
   "id": "5ac2642e",
   "metadata": {},
   "outputs": [],
   "source": [
    "data_arr, label_arr = Prepare_data('./data/', './static_tag.csv', 'ICUSTAY_ID', 'DIEINHOSPITAL')"
   ]
  },
  {
   "cell_type": "code",
   "execution_count": 3,
   "id": "f275ddc7",
   "metadata": {},
   "outputs": [
    {
     "ename": "NameError",
     "evalue": "name 'cg' is not defined",
     "output_type": "error",
     "traceback": [
      "\u001b[0;31m---------------------------------------------------------------------------\u001b[0m",
      "\u001b[0;31mNameError\u001b[0m                                 Traceback (most recent call last)",
      "Cell \u001b[0;32mIn[3], line 6\u001b[0m\n\u001b[1;32m      1\u001b[0m model_params \u001b[38;5;241m=\u001b[39m {\n\u001b[1;32m      2\u001b[0m     \u001b[38;5;124m'\u001b[39m\u001b[38;5;124mnum_levels\u001b[39m\u001b[38;5;124m'\u001b[39m: \u001b[38;5;241m6\u001b[39m,\n\u001b[1;32m      3\u001b[0m     \u001b[38;5;124m'\u001b[39m\u001b[38;5;124mkernel_size\u001b[39m\u001b[38;5;124m'\u001b[39m: \u001b[38;5;241m6\u001b[39m,\n\u001b[1;32m      4\u001b[0m     \u001b[38;5;124m'\u001b[39m\u001b[38;5;124mdilation_c\u001b[39m\u001b[38;5;124m'\u001b[39m: \u001b[38;5;241m4\u001b[39m,\n\u001b[1;32m      5\u001b[0m     }\n\u001b[0;32m----> 6\u001b[0m model_data \u001b[38;5;241m=\u001b[39m parallel_impute(data_arr, \u001b[43mcg\u001b[49m, model_params)\n\u001b[1;32m      7\u001b[0m model_data\n",
      "\u001b[0;31mNameError\u001b[0m: name 'cg' is not defined"
     ]
    }
   ],
   "source": [
    "model_params = {\n",
    "    'num_levels': 6,\n",
    "    'kernel_size': 6,\n",
    "    'dilation_c': 4,\n",
    "    }\n",
    "model_data = parallel_impute(data_arr, cg, model_params)\n",
    "model_data"
   ]
  },
  {
   "cell_type": "code",
   "execution_count": 33,
   "id": "c3b9c254",
   "metadata": {},
   "outputs": [
    {
     "data": {
      "text/plain": [
       "[array([[ 19.       ,   4.       ,  15.       , ..., 159.       ,\n",
       "           3.2      ,  10.096519 ],\n",
       "        [ 18.954546 ,   4.       ,  15.       , ..., 159.       ,\n",
       "           3.1794753,  13.76515  ],\n",
       "        [ 18.90909  ,   4.0176554,  15.       , ..., 159.       ,\n",
       "           3.2      ,  20.561134 ],\n",
       "        ...,\n",
       "        [ 12.       ,   2.       ,   8.       , ..., 111.       ,\n",
       "           3.6      , 137.58179  ],\n",
       "        [ 12.       ,   2.       ,   8.       , ..., 111.       ,\n",
       "           3.6      , 137.5899   ],\n",
       "        [ 12.       ,   2.       ,   8.       , ..., 111.       ,\n",
       "           3.6      , 137.60788  ]], dtype=float32),\n",
       " array([[ 16.       ,   4.       ,  15.       , ..., 233.       ,\n",
       "           3.8      ,  11.054536 ],\n",
       "        [ 16.       ,   4.       ,  15.       , ..., 233.       ,\n",
       "           3.8      ,  13.221503 ],\n",
       "        [ 16.       ,   4.       ,  15.       , ..., 233.       ,\n",
       "           3.8      ,  15.287965 ],\n",
       "        ...,\n",
       "        [ 17.       ,   4.       ,  15.       , ..., 217.       ,\n",
       "           3.9      , 358.24997  ],\n",
       "        [ 17.       ,   4.       ,  15.       , ..., 217.       ,\n",
       "           3.9      , 358.2986   ],\n",
       "        [ 17.       ,   4.       ,  15.       , ..., 217.       ,\n",
       "           3.9052575, 358.32758  ]], dtype=float32),\n",
       " array([[ 1.30000000e+01,  1.00000000e+00,  3.00000000e+00, ...,\n",
       "          9.20000000e+01,  3.90000010e+00, -1.61118875e-03],\n",
       "        [ 1.30000000e+01,  1.00076354e+00,  3.00000000e+00, ...,\n",
       "          9.20000000e+01,  3.90000010e+00, -1.61143229e-03],\n",
       "        [ 1.30632725e+01,  1.00000000e+00,  3.00000000e+00, ...,\n",
       "          9.20000000e+01,  3.89423108e+00, -1.61138515e-03],\n",
       "        ...,\n",
       "        [ 1.50000000e+01,  4.00000000e+00,  1.50000000e+01, ...,\n",
       "          1.25864944e+02,  4.19999981e+00, -1.61082612e-03],\n",
       "        [ 1.50000000e+01,  4.02128124e+00,  1.50000000e+01, ...,\n",
       "          1.26000000e+02,  4.19999981e+00, -1.61082612e-03],\n",
       "        [ 1.50000000e+01,  4.00000000e+00,  1.50000000e+01, ...,\n",
       "          1.26000000e+02,  4.19999981e+00, -1.61082612e-03]], dtype=float32)]"
      ]
     },
     "execution_count": 33,
     "metadata": {},
     "output_type": "execute_result"
    }
   ],
   "source": [
    "model_data"
   ]
  },
  {
   "cell_type": "code",
   "execution_count": 12,
   "id": "af6a7e36",
   "metadata": {},
   "outputs": [
    {
     "name": "stdout",
     "output_type": "stream",
     "text": [
      "\n",
      "=== Fold 1/2 ===\n",
      "Fold 1 Accuracy: 100.00%\n",
      "\n",
      "=== Fold 2/2 ===\n",
      "Fold 2 Accuracy: 100.00%\n"
     ]
    }
   ],
   "source": [
    "train_and_evaluate(zero_data, label_arr, k=2, epochs=100, lr=0.02)"
   ]
  },
  {
   "cell_type": "code",
   "execution_count": 21,
   "id": "0628c3d8",
   "metadata": {},
   "outputs": [],
   "source": [
    "import os\n",
    "import glob\n",
    "import numpy as np\n",
    "import pandas as pd\n",
    "\n",
    "def load_csvs_as_numpy_array(directory):\n",
    "    # 匹配目录下所有 .csv 文件\n",
    "    csv_files = glob.glob(os.path.join(directory, '*.csv'))\n",
    "\n",
    "    data_arrays = []\n",
    "    for file in csv_files:\n",
    "        df = pd.read_csv(file)      # 读取 CSV\n",
    "        data = df.values            # 转为 NumPy 数组\n",
    "        data_arrays.append(data)    # 加入列表\n",
    "\n",
    "    return data_arrays  # 返回的是 list[np.ndarray]\n"
   ]
  },
  {
   "cell_type": "code",
   "execution_count": 22,
   "id": "80f39c4a",
   "metadata": {},
   "outputs": [],
   "source": [
    "np_arr = load_csvs_as_numpy_array('data')"
   ]
  },
  {
   "cell_type": "code",
   "execution_count": 23,
   "id": "d6a0037b",
   "metadata": {},
   "outputs": [
    {
     "data": {
      "text/plain": [
       "[array([[19.,  4., 15., ..., nan, nan, nan],\n",
       "        [nan, nan, nan, ..., nan, nan, nan],\n",
       "        [nan, nan, nan, ..., nan, nan, nan],\n",
       "        ...,\n",
       "        [nan, nan, nan, ..., nan, nan, nan],\n",
       "        [nan, nan, nan, ..., nan, nan, nan],\n",
       "        [nan, nan, nan, ..., nan, nan, nan]]),\n",
       " array([[nan, nan, nan, ..., nan, nan, nan],\n",
       "        [nan, nan, nan, ..., nan, nan, nan],\n",
       "        [nan, nan, nan, ..., nan, nan, nan],\n",
       "        ...,\n",
       "        [nan, nan, nan, ..., nan, nan, nan],\n",
       "        [nan, nan, nan, ..., nan, nan, nan],\n",
       "        [nan, nan, nan, ..., nan, nan, nan]]),\n",
       " array([[nan, nan, nan, ..., nan, nan, nan],\n",
       "        [nan, nan, nan, ..., nan, nan, nan],\n",
       "        [nan, nan, nan, ..., nan, nan, nan],\n",
       "        ...,\n",
       "        [nan, nan, nan, ..., nan, nan, nan],\n",
       "        [nan, nan, nan, ..., nan, nan, nan],\n",
       "        [nan, nan, nan, ..., nan, nan, nan]])]"
      ]
     },
     "execution_count": 23,
     "metadata": {},
     "output_type": "execute_result"
    }
   ],
   "source": [
    "np_arr"
   ]
  },
  {
   "cell_type": "code",
   "execution_count": 4,
   "id": "2df43199",
   "metadata": {},
   "outputs": [
    {
     "ename": "NameError",
     "evalue": "name 'np_arr' is not defined",
     "output_type": "error",
     "traceback": [
      "\u001b[0;31m---------------------------------------------------------------------------\u001b[0m",
      "\u001b[0;31mNameError\u001b[0m                                 Traceback (most recent call last)",
      "Cell \u001b[0;32mIn[4], line 1\u001b[0m\n\u001b[0;32m----> 1\u001b[0m cg \u001b[38;5;241m=\u001b[39m causal_discovery(\u001b[43mnp_arr\u001b[49m, \u001b[38;5;241m3\u001b[39m)\n",
      "\u001b[0;31mNameError\u001b[0m: name 'np_arr' is not defined"
     ]
    }
   ],
   "source": [
    "cg = causal_discovery(np_arr, 3)"
   ]
  },
  {
   "cell_type": "code",
   "execution_count": null,
   "id": "6296c21e",
   "metadata": {},
   "outputs": [],
   "source": [
    "# cg = pd.DataFrame(cg)\n",
    "cg = cg\n",
    "print(type(cg))\n"
   ]
  },
  {
   "cell_type": "code",
   "execution_count": null,
   "id": "497ff41b",
   "metadata": {},
   "outputs": [],
   "source": [
    "dat = pd.read_csv('data/200003.csv')\n",
    "model_params = {\n",
    "    'num_levels': 6,\n",
    "    'kernel_size': 6,\n",
    "    'dilation_c': 4,\n",
    "    }\n",
    "dat = dat.values  # 转为 NumPy 数组\n",
    "dat = impute(dat, cg, model_params=model_params)\n"
   ]
  },
  {
   "cell_type": "code",
   "execution_count": null,
   "id": "667a1ea7",
   "metadata": {},
   "outputs": [],
   "source": [
    "re = mse_evaluate(dat, causal_matrix=cg)"
   ]
  },
  {
   "cell_type": "code",
   "execution_count": null,
   "id": "7b86e1f4",
   "metadata": {},
   "outputs": [],
   "source": [
    "re"
   ]
  },
  {
   "cell_type": "code",
   "execution_count": null,
   "id": "d664477f",
   "metadata": {},
   "outputs": [],
   "source": [
    "dat2 = pd.read_csv('data/200007.csv')\n",
    "model_params = {\n",
    "    'num_levels': 6,\n",
    "    'kernel_size': 6,\n",
    "    'dilation_c': 4,\n",
    "    }\n",
    "dat2 = dat2.values  # 转为 NumPy 数组\n",
    "dat2 = impute(dat2, cg, model_params=model_params)\n",
    "re2 = mse_evaluate(dat2, causal_matrix=cg)\n",
    "re2"
   ]
  },
  {
   "cell_type": "code",
   "execution_count": null,
   "id": "5663cc91",
   "metadata": {},
   "outputs": [],
   "source": []
  }
 ],
 "metadata": {
  "kernelspec": {
   "display_name": "Former",
   "language": "python",
   "name": "python3"
  },
  "language_info": {
   "codemirror_mode": {
    "name": "ipython",
    "version": 3
   },
   "file_extension": ".py",
   "mimetype": "text/x-python",
   "name": "python",
   "nbconvert_exporter": "python",
   "pygments_lexer": "ipython3",
   "version": "3.8.18"
  }
 },
 "nbformat": 4,
 "nbformat_minor": 5
}
